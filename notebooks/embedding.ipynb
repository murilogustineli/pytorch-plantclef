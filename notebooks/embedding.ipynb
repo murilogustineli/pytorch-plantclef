{
 "cells": [
  {
   "cell_type": "markdown",
   "metadata": {},
   "source": [
    "# embedding"
   ]
  },
  {
   "cell_type": "code",
   "execution_count": 1,
   "metadata": {},
   "outputs": [],
   "source": [
    "%load_ext autoreload\n",
    "%autoreload 2"
   ]
  },
  {
   "cell_type": "code",
   "execution_count": 2,
   "metadata": {},
   "outputs": [
    {
     "name": "stdout",
     "output_type": "stream",
     "text": [
      "PyTorch Version: 2.6.0\n",
      "Using device: cpu\n"
     ]
    }
   ],
   "source": [
    "import torch\n",
    "from plantclef.config import get_device\n",
    "\n",
    "print(f\"PyTorch Version: {torch.__version__}\")\n",
    "device = get_device()\n",
    "print(f\"Using device: {device}\")"
   ]
  },
  {
   "cell_type": "code",
   "execution_count": 3,
   "metadata": {},
   "outputs": [
    {
     "name": "stdout",
     "output_type": "stream",
     "text": [
      "/Users/mgustineli/github/pytorch-plantclef\n",
      "Wed Mar 19 17:50:35 EDT 2025\n"
     ]
    }
   ],
   "source": [
    "import pandas as pd\n",
    "from pathlib import Path\n",
    "\n",
    "# Get list of stored filed in cloud bucket\n",
    "root = Path().resolve().parents[0]\n",
    "print(root)\n",
    "! date"
   ]
  },
  {
   "cell_type": "code",
   "execution_count": 4,
   "metadata": {},
   "outputs": [
    {
     "name": "stdout",
     "output_type": "stream",
     "text": [
      "(3760, 22)\n"
     ]
    },
    {
     "data": {
      "text/html": [
       "<div>\n",
       "<style scoped>\n",
       "    .dataframe tbody tr th:only-of-type {\n",
       "        vertical-align: middle;\n",
       "    }\n",
       "\n",
       "    .dataframe tbody tr th {\n",
       "        vertical-align: top;\n",
       "    }\n",
       "\n",
       "    .dataframe thead th {\n",
       "        text-align: right;\n",
       "    }\n",
       "</style>\n",
       "<table border=\"1\" class=\"dataframe\">\n",
       "  <thead>\n",
       "    <tr style=\"text-align: right;\">\n",
       "      <th></th>\n",
       "      <th>species_id</th>\n",
       "      <th>image_name</th>\n",
       "      <th>path</th>\n",
       "      <th>data</th>\n",
       "      <th>organ</th>\n",
       "      <th>obs_id</th>\n",
       "      <th>license</th>\n",
       "      <th>partner</th>\n",
       "      <th>author</th>\n",
       "      <th>altitude</th>\n",
       "      <th>...</th>\n",
       "      <th>gbif_species_id</th>\n",
       "      <th>species</th>\n",
       "      <th>genus</th>\n",
       "      <th>family</th>\n",
       "      <th>dataset</th>\n",
       "      <th>publisher</th>\n",
       "      <th>references</th>\n",
       "      <th>url</th>\n",
       "      <th>learn_tag</th>\n",
       "      <th>image_backup_url</th>\n",
       "    </tr>\n",
       "  </thead>\n",
       "  <tbody>\n",
       "    <tr>\n",
       "      <th>0</th>\n",
       "      <td>1360257</td>\n",
       "      <td>5a4deafc321f2b653f03cc238160a799b0bbb6b7.jpg</td>\n",
       "      <td>/PlantCLEF2024/train/1360257/5a4deafc321f2b653...</td>\n",
       "      <td>b'\\xff\\xd8\\xff\\xe0\\x00\\x10JFIF\\x00\\x01\\x01\\x00...</td>\n",
       "      <td>bark</td>\n",
       "      <td>1015292920</td>\n",
       "      <td>cc-by-sa</td>\n",
       "      <td>None</td>\n",
       "      <td>Gabor Graehn</td>\n",
       "      <td>NaN</td>\n",
       "      <td>...</td>\n",
       "      <td>3039454.0</td>\n",
       "      <td>Frangula alnus Mill.</td>\n",
       "      <td>Frangula</td>\n",
       "      <td>Rhamnaceae</td>\n",
       "      <td>plantnet</td>\n",
       "      <td>plantnet</td>\n",
       "      <td>https://identify.plantnet.org/fr/k-southwester...</td>\n",
       "      <td>https://bs.plantnet.org/image/o/5a4deafc321f2b...</td>\n",
       "      <td>train</td>\n",
       "      <td>https://lab.plantnet.org/LifeCLEF/PlantCLEF202...</td>\n",
       "    </tr>\n",
       "    <tr>\n",
       "      <th>1</th>\n",
       "      <td>1360257</td>\n",
       "      <td>a6d9a13ec26cbb04d61861ad5cb4ede8eb4d1ea3.jpg</td>\n",
       "      <td>/PlantCLEF2024/train/1360257/a6d9a13ec26cbb04d...</td>\n",
       "      <td>b'\\xff\\xd8\\xff\\xe0\\x00\\x10JFIF\\x00\\x01\\x01\\x00...</td>\n",
       "      <td>bark</td>\n",
       "      <td>1005087257</td>\n",
       "      <td>cc-by-sa</td>\n",
       "      <td>None</td>\n",
       "      <td>Jacco Sanders</td>\n",
       "      <td>51.0</td>\n",
       "      <td>...</td>\n",
       "      <td>3039454.0</td>\n",
       "      <td>Frangula alnus Mill.</td>\n",
       "      <td>Frangula</td>\n",
       "      <td>Rhamnaceae</td>\n",
       "      <td>plantnet</td>\n",
       "      <td>plantnet</td>\n",
       "      <td>https://identify.plantnet.org/fr/k-southwester...</td>\n",
       "      <td>https://bs.plantnet.org/image/o/a6d9a13ec26cbb...</td>\n",
       "      <td>train</td>\n",
       "      <td>https://lab.plantnet.org/LifeCLEF/PlantCLEF202...</td>\n",
       "    </tr>\n",
       "    <tr>\n",
       "      <th>2</th>\n",
       "      <td>1360257</td>\n",
       "      <td>0fec55fc5105e512df08490ecbb55df3393d85c8.jpg</td>\n",
       "      <td>/PlantCLEF2024/train/1360257/0fec55fc5105e512d...</td>\n",
       "      <td>b'\\xff\\xd8\\xff\\xe0\\x00\\x10JFIF\\x00\\x01\\x01\\x00...</td>\n",
       "      <td>leaf</td>\n",
       "      <td>4111721487</td>\n",
       "      <td>http://creativecommons.org/licenses/by-nc/4.0/</td>\n",
       "      <td>None</td>\n",
       "      <td>imrsmf</td>\n",
       "      <td>NaN</td>\n",
       "      <td>...</td>\n",
       "      <td>3039454.0</td>\n",
       "      <td>Frangula alnus Mill.</td>\n",
       "      <td>Frangula</td>\n",
       "      <td>Rhamnaceae</td>\n",
       "      <td>gbif</td>\n",
       "      <td>iNaturalist</td>\n",
       "      <td>https://www.inaturalist.org/photos/268971946</td>\n",
       "      <td>https://inaturalist-open-data.s3.amazonaws.com...</td>\n",
       "      <td>train</td>\n",
       "      <td>https://lab.plantnet.org/LifeCLEF/PlantCLEF202...</td>\n",
       "    </tr>\n",
       "  </tbody>\n",
       "</table>\n",
       "<p>3 rows × 22 columns</p>\n",
       "</div>"
      ],
      "text/plain": [
       "   species_id                                    image_name  \\\n",
       "0     1360257  5a4deafc321f2b653f03cc238160a799b0bbb6b7.jpg   \n",
       "1     1360257  a6d9a13ec26cbb04d61861ad5cb4ede8eb4d1ea3.jpg   \n",
       "2     1360257  0fec55fc5105e512df08490ecbb55df3393d85c8.jpg   \n",
       "\n",
       "                                                path  \\\n",
       "0  /PlantCLEF2024/train/1360257/5a4deafc321f2b653...   \n",
       "1  /PlantCLEF2024/train/1360257/a6d9a13ec26cbb04d...   \n",
       "2  /PlantCLEF2024/train/1360257/0fec55fc5105e512d...   \n",
       "\n",
       "                                                data organ      obs_id  \\\n",
       "0  b'\\xff\\xd8\\xff\\xe0\\x00\\x10JFIF\\x00\\x01\\x01\\x00...  bark  1015292920   \n",
       "1  b'\\xff\\xd8\\xff\\xe0\\x00\\x10JFIF\\x00\\x01\\x01\\x00...  bark  1005087257   \n",
       "2  b'\\xff\\xd8\\xff\\xe0\\x00\\x10JFIF\\x00\\x01\\x01\\x00...  leaf  4111721487   \n",
       "\n",
       "                                          license partner         author  \\\n",
       "0                                        cc-by-sa    None   Gabor Graehn   \n",
       "1                                        cc-by-sa    None  Jacco Sanders   \n",
       "2  http://creativecommons.org/licenses/by-nc/4.0/    None         imrsmf   \n",
       "\n",
       "   altitude  ...  gbif_species_id               species     genus      family  \\\n",
       "0       NaN  ...        3039454.0  Frangula alnus Mill.  Frangula  Rhamnaceae   \n",
       "1      51.0  ...        3039454.0  Frangula alnus Mill.  Frangula  Rhamnaceae   \n",
       "2       NaN  ...        3039454.0  Frangula alnus Mill.  Frangula  Rhamnaceae   \n",
       "\n",
       "    dataset    publisher                                         references  \\\n",
       "0  plantnet     plantnet  https://identify.plantnet.org/fr/k-southwester...   \n",
       "1  plantnet     plantnet  https://identify.plantnet.org/fr/k-southwester...   \n",
       "2      gbif  iNaturalist       https://www.inaturalist.org/photos/268971946   \n",
       "\n",
       "                                                 url learn_tag  \\\n",
       "0  https://bs.plantnet.org/image/o/5a4deafc321f2b...     train   \n",
       "1  https://bs.plantnet.org/image/o/a6d9a13ec26cbb...     train   \n",
       "2  https://inaturalist-open-data.s3.amazonaws.com...     train   \n",
       "\n",
       "                                    image_backup_url  \n",
       "0  https://lab.plantnet.org/LifeCLEF/PlantCLEF202...  \n",
       "1  https://lab.plantnet.org/LifeCLEF/PlantCLEF202...  \n",
       "2  https://lab.plantnet.org/LifeCLEF/PlantCLEF202...  \n",
       "\n",
       "[3 rows x 22 columns]"
      ]
     },
     "metadata": {},
     "output_type": "display_data"
    },
    {
     "data": {
      "text/html": [
       "<div>\n",
       "<style scoped>\n",
       "    .dataframe tbody tr th:only-of-type {\n",
       "        vertical-align: middle;\n",
       "    }\n",
       "\n",
       "    .dataframe tbody tr th {\n",
       "        vertical-align: top;\n",
       "    }\n",
       "\n",
       "    .dataframe thead th {\n",
       "        text-align: right;\n",
       "    }\n",
       "</style>\n",
       "<table border=\"1\" class=\"dataframe\">\n",
       "  <thead>\n",
       "    <tr style=\"text-align: right;\">\n",
       "      <th></th>\n",
       "      <th>image_name</th>\n",
       "      <th>path</th>\n",
       "      <th>data</th>\n",
       "    </tr>\n",
       "  </thead>\n",
       "  <tbody>\n",
       "    <tr>\n",
       "      <th>0</th>\n",
       "      <td>CBN-PdlC-C4-20180723.jpg</td>\n",
       "      <td>/test/data/PlantCLEF/PlantCLEF2025/DataOut/tes...</td>\n",
       "      <td>b'\\xff\\xd8\\xff\\xe0\\x00\\x10JFIF\\x00\\x01\\x01\\x01...</td>\n",
       "    </tr>\n",
       "    <tr>\n",
       "      <th>1</th>\n",
       "      <td>LISAH-BOU-0-30-20230512.jpg</td>\n",
       "      <td>/test/data/PlantCLEF/PlantCLEF2025/DataOut/tes...</td>\n",
       "      <td>b'\\xff\\xd8\\xff\\xdb\\x00C\\x00\\x06\\x04\\x05\\x06\\x0...</td>\n",
       "    </tr>\n",
       "    <tr>\n",
       "      <th>2</th>\n",
       "      <td>CBN-PdlC-C4-20140811.jpg</td>\n",
       "      <td>/test/data/PlantCLEF/PlantCLEF2025/DataOut/tes...</td>\n",
       "      <td>b'\\xff\\xd8\\xff\\xe0\\x00\\x10JFIF\\x00\\x01\\x01\\x01...</td>\n",
       "    </tr>\n",
       "  </tbody>\n",
       "</table>\n",
       "</div>"
      ],
      "text/plain": [
       "                    image_name  \\\n",
       "0     CBN-PdlC-C4-20180723.jpg   \n",
       "1  LISAH-BOU-0-30-20230512.jpg   \n",
       "2     CBN-PdlC-C4-20140811.jpg   \n",
       "\n",
       "                                                path  \\\n",
       "0  /test/data/PlantCLEF/PlantCLEF2025/DataOut/tes...   \n",
       "1  /test/data/PlantCLEF/PlantCLEF2025/DataOut/tes...   \n",
       "2  /test/data/PlantCLEF/PlantCLEF2025/DataOut/tes...   \n",
       "\n",
       "                                                data  \n",
       "0  b'\\xff\\xd8\\xff\\xe0\\x00\\x10JFIF\\x00\\x01\\x01\\x01...  \n",
       "1  b'\\xff\\xd8\\xff\\xdb\\x00C\\x00\\x06\\x04\\x05\\x06\\x0...  \n",
       "2  b'\\xff\\xd8\\xff\\xe0\\x00\\x10JFIF\\x00\\x01\\x01\\x01...  "
      ]
     },
     "metadata": {},
     "output_type": "display_data"
    }
   ],
   "source": [
    "# path to data\n",
    "data_path = f\"{root}/data/parquet/\"\n",
    "train_path = f\"{data_path}/subset_top5_train\"\n",
    "test_path = f\"{data_path}/test_2025_pytorch_webinar\"\n",
    "\n",
    "# read train/test data\n",
    "train_df = pd.read_parquet(train_path)\n",
    "test_df = pd.read_parquet(test_path)\n",
    "\n",
    "# display data\n",
    "print(train_df.shape)\n",
    "display(train_df.head(3))\n",
    "display(test_df.head(3))"
   ]
  },
  {
   "cell_type": "markdown",
   "metadata": {},
   "source": [
    "### extract embeddings from images"
   ]
  },
  {
   "cell_type": "code",
   "execution_count": 5,
   "metadata": {},
   "outputs": [
    {
     "name": "stdout",
     "output_type": "stream",
     "text": [
      "Limit DF shape: (2, 22)\n"
     ]
    }
   ],
   "source": [
    "# limit to 5 samples for testing\n",
    "limit_df = train_df.head(2)\n",
    "print(f\"Limit DF shape: {limit_df.shape}\")"
   ]
  },
  {
   "cell_type": "code",
   "execution_count": 6,
   "metadata": {},
   "outputs": [
    {
     "name": "stderr",
     "output_type": "stream",
     "text": [
      "Extracting embeddings and logits: 100%|██████████| 1/1 [00:04<00:00,  4.40s/batch]\n"
     ]
    }
   ],
   "source": [
    "from plantclef.embed.workflow import inference_pipeline\n",
    "\n",
    "# extract embeddings\n",
    "embeddings, logits = inference_pipeline(\n",
    "    limit_df,\n",
    "    batch_size=2,\n",
    "    use_grid=False,\n",
    "    cpu_count=1,\n",
    ")"
   ]
  },
  {
   "cell_type": "code",
   "execution_count": 7,
   "metadata": {},
   "outputs": [
    {
     "data": {
      "text/plain": [
       "(2, 768)"
      ]
     },
     "execution_count": 7,
     "metadata": {},
     "output_type": "execute_result"
    }
   ],
   "source": [
    "# embeddings shape\n",
    "embeddings.shape"
   ]
  },
  {
   "cell_type": "code",
   "execution_count": 8,
   "metadata": {},
   "outputs": [
    {
     "data": {
      "text/html": [
       "<div>\n",
       "<style scoped>\n",
       "    .dataframe tbody tr th:only-of-type {\n",
       "        vertical-align: middle;\n",
       "    }\n",
       "\n",
       "    .dataframe tbody tr th {\n",
       "        vertical-align: top;\n",
       "    }\n",
       "\n",
       "    .dataframe thead th {\n",
       "        text-align: right;\n",
       "    }\n",
       "</style>\n",
       "<table border=\"1\" class=\"dataframe\">\n",
       "  <thead>\n",
       "    <tr style=\"text-align: right;\">\n",
       "      <th></th>\n",
       "      <th>image_name</th>\n",
       "      <th>species</th>\n",
       "      <th>species_id</th>\n",
       "      <th>embeddings</th>\n",
       "    </tr>\n",
       "  </thead>\n",
       "  <tbody>\n",
       "    <tr>\n",
       "      <th>0</th>\n",
       "      <td>5a4deafc321f2b653f03cc238160a799b0bbb6b7.jpg</td>\n",
       "      <td>Frangula alnus Mill.</td>\n",
       "      <td>1360257</td>\n",
       "      <td>[-0.8239141702651978, 1.2448816299438477, 0.02...</td>\n",
       "    </tr>\n",
       "    <tr>\n",
       "      <th>1</th>\n",
       "      <td>a6d9a13ec26cbb04d61861ad5cb4ede8eb4d1ea3.jpg</td>\n",
       "      <td>Frangula alnus Mill.</td>\n",
       "      <td>1360257</td>\n",
       "      <td>[-0.14528469741344452, -0.8409067988395691, -0...</td>\n",
       "    </tr>\n",
       "  </tbody>\n",
       "</table>\n",
       "</div>"
      ],
      "text/plain": [
       "                                     image_name               species  \\\n",
       "0  5a4deafc321f2b653f03cc238160a799b0bbb6b7.jpg  Frangula alnus Mill.   \n",
       "1  a6d9a13ec26cbb04d61861ad5cb4ede8eb4d1ea3.jpg  Frangula alnus Mill.   \n",
       "\n",
       "   species_id                                         embeddings  \n",
       "0     1360257  [-0.8239141702651978, 1.2448816299438477, 0.02...  \n",
       "1     1360257  [-0.14528469741344452, -0.8409067988395691, -0...  "
      ]
     },
     "execution_count": 8,
     "metadata": {},
     "output_type": "execute_result"
    }
   ],
   "source": [
    "# create embeddings dataframe\n",
    "cols = [\"image_name\", \"species\", \"species_id\"]\n",
    "embeddings_df = limit_df[cols].copy()\n",
    "embeddings_df[\"embeddings\"] = embeddings.tolist()\n",
    "embeddings_df.head(2)"
   ]
  },
  {
   "cell_type": "code",
   "execution_count": 9,
   "metadata": {},
   "outputs": [
    {
     "data": {
      "image/png": "[encoded data removed]",
      "text/plain": [
       "<Figure size 960x480 with 2 Axes>"
      ]
     },
     "metadata": {},
     "output_type": "display_data"
    }
   ],
   "source": [
    "from plantclef.plotting import plot_embeddings\n",
    "\n",
    "plot_embeddings(\n",
    "    embeddings_df,\n",
    "    data_col=\"embeddings\",\n",
    "    label_col=\"species\",\n",
    "    grid_size=(1, 2),\n",
    "    figsize=(8, 4),\n",
    "    dpi=120,\n",
    ")"
   ]
  },
  {
   "cell_type": "markdown",
   "metadata": {},
   "source": [
    "## grid of image tiles"
   ]
  },
  {
   "cell_type": "code",
   "execution_count": 10,
   "metadata": {},
   "outputs": [
    {
     "name": "stderr",
     "output_type": "stream",
     "text": [
      "Extracting embeddings and logits: 100%|██████████| 1/1 [00:13<00:00, 13.41s/batch]\n"
     ]
    }
   ],
   "source": [
    "# use grid to extract embeddings for each tile\n",
    "USE_GRID = True\n",
    "GRID_SIZE = 3\n",
    "\n",
    "# extract embeddings\n",
    "embeddings, logits = inference_pipeline(\n",
    "    limit_df,\n",
    "    batch_size=2,\n",
    "    use_grid=USE_GRID,\n",
    "    grid_size=GRID_SIZE,\n",
    "    cpu_count=1,\n",
    ")"
   ]
  },
  {
   "cell_type": "code",
   "execution_count": 11,
   "metadata": {},
   "outputs": [
    {
     "data": {
      "text/plain": [
       "(2, 9, 768)"
      ]
     },
     "execution_count": 11,
     "metadata": {},
     "output_type": "execute_result"
    }
   ],
   "source": [
    "# embeddings shape\n",
    "embeddings.shape"
   ]
  },
  {
   "cell_type": "code",
   "execution_count": 12,
   "metadata": {},
   "outputs": [
    {
     "data": {
      "text/html": [
       "<div>\n",
       "<style scoped>\n",
       "    .dataframe tbody tr th:only-of-type {\n",
       "        vertical-align: middle;\n",
       "    }\n",
       "\n",
       "    .dataframe tbody tr th {\n",
       "        vertical-align: top;\n",
       "    }\n",
       "\n",
       "    .dataframe thead th {\n",
       "        text-align: right;\n",
       "    }\n",
       "</style>\n",
       "<table border=\"1\" class=\"dataframe\">\n",
       "  <thead>\n",
       "    <tr style=\"text-align: right;\">\n",
       "      <th></th>\n",
       "      <th>image_name</th>\n",
       "      <th>species</th>\n",
       "      <th>species_id</th>\n",
       "      <th>data</th>\n",
       "      <th>embeddings</th>\n",
       "    </tr>\n",
       "  </thead>\n",
       "  <tbody>\n",
       "    <tr>\n",
       "      <th>0</th>\n",
       "      <td>5a4deafc321f2b653f03cc238160a799b0bbb6b7.jpg</td>\n",
       "      <td>Frangula alnus Mill.</td>\n",
       "      <td>1360257</td>\n",
       "      <td>b'\\xff\\xd8\\xff\\xe0\\x00\\x10JFIF\\x00\\x01\\x01\\x00...</td>\n",
       "      <td>[[-0.5858300924301147, -0.12547707557678223, 0...</td>\n",
       "    </tr>\n",
       "    <tr>\n",
       "      <th>1</th>\n",
       "      <td>a6d9a13ec26cbb04d61861ad5cb4ede8eb4d1ea3.jpg</td>\n",
       "      <td>Frangula alnus Mill.</td>\n",
       "      <td>1360257</td>\n",
       "      <td>b'\\xff\\xd8\\xff\\xe0\\x00\\x10JFIF\\x00\\x01\\x01\\x00...</td>\n",
       "      <td>[[-0.0179920494556427, -0.5721642374992371, 0....</td>\n",
       "    </tr>\n",
       "  </tbody>\n",
       "</table>\n",
       "</div>"
      ],
      "text/plain": [
       "                                     image_name               species  \\\n",
       "0  5a4deafc321f2b653f03cc238160a799b0bbb6b7.jpg  Frangula alnus Mill.   \n",
       "1  a6d9a13ec26cbb04d61861ad5cb4ede8eb4d1ea3.jpg  Frangula alnus Mill.   \n",
       "\n",
       "   species_id                                               data  \\\n",
       "0     1360257  b'\\xff\\xd8\\xff\\xe0\\x00\\x10JFIF\\x00\\x01\\x01\\x00...   \n",
       "1     1360257  b'\\xff\\xd8\\xff\\xe0\\x00\\x10JFIF\\x00\\x01\\x01\\x00...   \n",
       "\n",
       "                                          embeddings  \n",
       "0  [[-0.5858300924301147, -0.12547707557678223, 0...  \n",
       "1  [[-0.0179920494556427, -0.5721642374992371, 0....  "
      ]
     },
     "execution_count": 12,
     "metadata": {},
     "output_type": "execute_result"
    }
   ],
   "source": [
    "# create embeddings dataframe\n",
    "cols = [\"image_name\", \"species\", \"species_id\", \"data\"]\n",
    "embeddings_df = limit_df[cols].copy()\n",
    "embeddings_df[\"embeddings\"] = embeddings.tolist()\n",
    "embeddings_df.head(2)"
   ]
  },
  {
   "cell_type": "code",
   "execution_count": 13,
   "metadata": {},
   "outputs": [
    {
     "data": {
      "text/plain": [
       "0    9\n",
       "1    9\n",
       "Name: embeddings, dtype: int64"
      ]
     },
     "execution_count": 13,
     "metadata": {},
     "output_type": "execute_result"
    }
   ],
   "source": [
    "embeddings_df[\"embeddings\"].apply(lambda x: len(x))"
   ]
  },
  {
   "cell_type": "code",
   "execution_count": 15,
   "metadata": {},
   "outputs": [
    {
     "data": {
      "text/html": [
       "<div>\n",
       "<style scoped>\n",
       "    .dataframe tbody tr th:only-of-type {\n",
       "        vertical-align: middle;\n",
       "    }\n",
       "\n",
       "    .dataframe tbody tr th {\n",
       "        vertical-align: top;\n",
       "    }\n",
       "\n",
       "    .dataframe thead th {\n",
       "        text-align: right;\n",
       "    }\n",
       "</style>\n",
       "<table border=\"1\" class=\"dataframe\">\n",
       "  <thead>\n",
       "    <tr style=\"text-align: right;\">\n",
       "      <th></th>\n",
       "      <th>image_name</th>\n",
       "      <th>species</th>\n",
       "      <th>species_id</th>\n",
       "      <th>data</th>\n",
       "      <th>embeddings</th>\n",
       "      <th>tile</th>\n",
       "    </tr>\n",
       "  </thead>\n",
       "  <tbody>\n",
       "    <tr>\n",
       "      <th>0</th>\n",
       "      <td>5a4deafc321f2b653f03cc238160a799b0bbb6b7.jpg</td>\n",
       "      <td>Frangula alnus Mill.</td>\n",
       "      <td>1360257</td>\n",
       "      <td>b'\\xff\\xd8\\xff\\xe0\\x00\\x10JFIF\\x00\\x01\\x01\\x00...</td>\n",
       "      <td>[-0.5858300924301147, -0.12547707557678223, 0....</td>\n",
       "      <td>0</td>\n",
       "    </tr>\n",
       "    <tr>\n",
       "      <th>1</th>\n",
       "      <td>5a4deafc321f2b653f03cc238160a799b0bbb6b7.jpg</td>\n",
       "      <td>Frangula alnus Mill.</td>\n",
       "      <td>1360257</td>\n",
       "      <td>b'\\xff\\xd8\\xff\\xe0\\x00\\x10JFIF\\x00\\x01\\x01\\x00...</td>\n",
       "      <td>[-0.4382806122303009, -0.7402958273887634, 0.0...</td>\n",
       "      <td>1</td>\n",
       "    </tr>\n",
       "    <tr>\n",
       "      <th>2</th>\n",
       "      <td>5a4deafc321f2b653f03cc238160a799b0bbb6b7.jpg</td>\n",
       "      <td>Frangula alnus Mill.</td>\n",
       "      <td>1360257</td>\n",
       "      <td>b'\\xff\\xd8\\xff\\xe0\\x00\\x10JFIF\\x00\\x01\\x01\\x00...</td>\n",
       "      <td>[-0.7558999061584473, 0.8920708894729614, -1.0...</td>\n",
       "      <td>2</td>\n",
       "    </tr>\n",
       "    <tr>\n",
       "      <th>3</th>\n",
       "      <td>5a4deafc321f2b653f03cc238160a799b0bbb6b7.jpg</td>\n",
       "      <td>Frangula alnus Mill.</td>\n",
       "      <td>1360257</td>\n",
       "      <td>b'\\xff\\xd8\\xff\\xe0\\x00\\x10JFIF\\x00\\x01\\x01\\x00...</td>\n",
       "      <td>[-0.686843752861023, 0.21441468596458435, -0.3...</td>\n",
       "      <td>3</td>\n",
       "    </tr>\n",
       "    <tr>\n",
       "      <th>4</th>\n",
       "      <td>5a4deafc321f2b653f03cc238160a799b0bbb6b7.jpg</td>\n",
       "      <td>Frangula alnus Mill.</td>\n",
       "      <td>1360257</td>\n",
       "      <td>b'\\xff\\xd8\\xff\\xe0\\x00\\x10JFIF\\x00\\x01\\x01\\x00...</td>\n",
       "      <td>[0.03154247999191284, 1.341550588607788, -1.05...</td>\n",
       "      <td>4</td>\n",
       "    </tr>\n",
       "    <tr>\n",
       "      <th>5</th>\n",
       "      <td>5a4deafc321f2b653f03cc238160a799b0bbb6b7.jpg</td>\n",
       "      <td>Frangula alnus Mill.</td>\n",
       "      <td>1360257</td>\n",
       "      <td>b'\\xff\\xd8\\xff\\xe0\\x00\\x10JFIF\\x00\\x01\\x01\\x00...</td>\n",
       "      <td>[-0.45235031843185425, 0.22192221879959106, -0...</td>\n",
       "      <td>5</td>\n",
       "    </tr>\n",
       "    <tr>\n",
       "      <th>6</th>\n",
       "      <td>5a4deafc321f2b653f03cc238160a799b0bbb6b7.jpg</td>\n",
       "      <td>Frangula alnus Mill.</td>\n",
       "      <td>1360257</td>\n",
       "      <td>b'\\xff\\xd8\\xff\\xe0\\x00\\x10JFIF\\x00\\x01\\x01\\x00...</td>\n",
       "      <td>[-0.2614886164665222, 1.9578287601470947, -0.8...</td>\n",
       "      <td>6</td>\n",
       "    </tr>\n",
       "    <tr>\n",
       "      <th>7</th>\n",
       "      <td>5a4deafc321f2b653f03cc238160a799b0bbb6b7.jpg</td>\n",
       "      <td>Frangula alnus Mill.</td>\n",
       "      <td>1360257</td>\n",
       "      <td>b'\\xff\\xd8\\xff\\xe0\\x00\\x10JFIF\\x00\\x01\\x01\\x00...</td>\n",
       "      <td>[-1.4218535423278809, -0.16190171241760254, -0...</td>\n",
       "      <td>7</td>\n",
       "    </tr>\n",
       "    <tr>\n",
       "      <th>8</th>\n",
       "      <td>5a4deafc321f2b653f03cc238160a799b0bbb6b7.jpg</td>\n",
       "      <td>Frangula alnus Mill.</td>\n",
       "      <td>1360257</td>\n",
       "      <td>b'\\xff\\xd8\\xff\\xe0\\x00\\x10JFIF\\x00\\x01\\x01\\x00...</td>\n",
       "      <td>[0.026297181844711304, -0.2350459098815918, -0...</td>\n",
       "      <td>8</td>\n",
       "    </tr>\n",
       "  </tbody>\n",
       "</table>\n",
       "</div>"
      ],
      "text/plain": [
       "                                     image_name               species  \\\n",
       "0  5a4deafc321f2b653f03cc238160a799b0bbb6b7.jpg  Frangula alnus Mill.   \n",
       "1  5a4deafc321f2b653f03cc238160a799b0bbb6b7.jpg  Frangula alnus Mill.   \n",
       "2  5a4deafc321f2b653f03cc238160a799b0bbb6b7.jpg  Frangula alnus Mill.   \n",
       "3  5a4deafc321f2b653f03cc238160a799b0bbb6b7.jpg  Frangula alnus Mill.   \n",
       "4  5a4deafc321f2b653f03cc238160a799b0bbb6b7.jpg  Frangula alnus Mill.   \n",
       "5  5a4deafc321f2b653f03cc238160a799b0bbb6b7.jpg  Frangula alnus Mill.   \n",
       "6  5a4deafc321f2b653f03cc238160a799b0bbb6b7.jpg  Frangula alnus Mill.   \n",
       "7  5a4deafc321f2b653f03cc238160a799b0bbb6b7.jpg  Frangula alnus Mill.   \n",
       "8  5a4deafc321f2b653f03cc238160a799b0bbb6b7.jpg  Frangula alnus Mill.   \n",
       "\n",
       "   species_id                                               data  \\\n",
       "0     1360257  b'\\xff\\xd8\\xff\\xe0\\x00\\x10JFIF\\x00\\x01\\x01\\x00...   \n",
       "1     1360257  b'\\xff\\xd8\\xff\\xe0\\x00\\x10JFIF\\x00\\x01\\x01\\x00...   \n",
       "2     1360257  b'\\xff\\xd8\\xff\\xe0\\x00\\x10JFIF\\x00\\x01\\x01\\x00...   \n",
       "3     1360257  b'\\xff\\xd8\\xff\\xe0\\x00\\x10JFIF\\x00\\x01\\x01\\x00...   \n",
       "4     1360257  b'\\xff\\xd8\\xff\\xe0\\x00\\x10JFIF\\x00\\x01\\x01\\x00...   \n",
       "5     1360257  b'\\xff\\xd8\\xff\\xe0\\x00\\x10JFIF\\x00\\x01\\x01\\x00...   \n",
       "6     1360257  b'\\xff\\xd8\\xff\\xe0\\x00\\x10JFIF\\x00\\x01\\x01\\x00...   \n",
       "7     1360257  b'\\xff\\xd8\\xff\\xe0\\x00\\x10JFIF\\x00\\x01\\x01\\x00...   \n",
       "8     1360257  b'\\xff\\xd8\\xff\\xe0\\x00\\x10JFIF\\x00\\x01\\x01\\x00...   \n",
       "\n",
       "                                          embeddings  tile  \n",
       "0  [-0.5858300924301147, -0.12547707557678223, 0....     0  \n",
       "1  [-0.4382806122303009, -0.7402958273887634, 0.0...     1  \n",
       "2  [-0.7558999061584473, 0.8920708894729614, -1.0...     2  \n",
       "3  [-0.686843752861023, 0.21441468596458435, -0.3...     3  \n",
       "4  [0.03154247999191284, 1.341550588607788, -1.05...     4  \n",
       "5  [-0.45235031843185425, 0.22192221879959106, -0...     5  \n",
       "6  [-0.2614886164665222, 1.9578287601470947, -0.8...     6  \n",
       "7  [-1.4218535423278809, -0.16190171241760254, -0...     7  \n",
       "8  [0.026297181844711304, -0.2350459098815918, -0...     8  "
      ]
     },
     "execution_count": 15,
     "metadata": {},
     "output_type": "execute_result"
    }
   ],
   "source": [
    "# explode embeddings\n",
    "explode_df = embeddings_df.explode(\"embeddings\", ignore_index=True)\n",
    "# assign tile number for each image\n",
    "explode_df[\"tile\"] = explode_df.groupby(\"image_name\").cumcount()\n",
    "explode_df.head(9)"
   ]
  },
  {
   "cell_type": "markdown",
   "metadata": {},
   "source": [
    "### PyTorch Lightning"
   ]
  },
  {
   "cell_type": "code",
   "execution_count": 19,
   "metadata": {},
   "outputs": [
    {
     "name": "stderr",
     "output_type": "stream",
     "text": [
      "GPU available: True (mps), used: False\n",
      "TPU available: False, using: 0 TPU cores\n",
      "HPU available: False, using: 0 HPUs\n",
      "/Users/mgustineli/github/pytorch-plantclef/venv/lib/python3.11/site-packages/pytorch_lightning/trainer/setup.py:177: GPU available but not used. You can set it by doing `Trainer(accelerator='gpu')`.\n",
      "/Users/mgustineli/github/pytorch-plantclef/venv/lib/python3.11/site-packages/pytorch_lightning/trainer/connectors/data_connector.py:425: The 'predict_dataloader' does not have many workers which may be a bottleneck. Consider increasing the value of the `num_workers` argument` to `num_workers=11` in the `DataLoader` to improve performance.\n"
     ]
    },
    {
     "data": {
      "application/vnd.jupyter.widget-view+json": {
       "model_id": "4caf2852418e451db2c70563fb3c5c39",
       "version_major": 2,
       "version_minor": 0
      },
      "text/plain": [
       "Predicting: |          | 0/? [00:00<?, ?it/s]"
      ]
     },
     "metadata": {},
     "output_type": "display_data"
    }
   ],
   "source": [
    "from plantclef.embed.workflow import trainer_pipeline\n",
    "\n",
    "# get embeddings and logits\n",
    "embeddings, logits = trainer_pipeline(\n",
    "    limit_df,\n",
    "    batch_size=1,\n",
    "    use_grid=USE_GRID,\n",
    "    grid_size=GRID_SIZE,\n",
    "    cpu_count=1,\n",
    ")"
   ]
  },
  {
   "cell_type": "code",
   "execution_count": 20,
   "metadata": {},
   "outputs": [
    {
     "data": {
      "text/plain": [
       "torch.Size([2, 9, 768])"
      ]
     },
     "execution_count": 20,
     "metadata": {},
     "output_type": "execute_result"
    }
   ],
   "source": [
    "# embeddings shape\n",
    "embeddings.shape"
   ]
  },
  {
   "cell_type": "code",
   "execution_count": null,
   "metadata": {},
   "outputs": [],
   "source": []
  },
  {
   "cell_type": "code",
   "execution_count": null,
   "metadata": {},
   "outputs": [],
   "source": []
  }
 ],
 "metadata": {
  "kernelspec": {
   "display_name": "venv",
   "language": "python",
   "name": "python3"
  },
  "language_info": {
   "codemirror_mode": {
    "name": "ipython",
    "version": 3
   },
   "file_extension": ".py",
   "mimetype": "text/x-python",
   "name": "python",
   "nbconvert_exporter": "python",
   "pygments_lexer": "ipython3",
   "version": "3.11.6"
  }
 },
 "nbformat": 4,
 "nbformat_minor": 2
}
